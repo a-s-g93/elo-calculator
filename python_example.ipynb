{
 "cells": [
  {
   "cell_type": "markdown",
   "metadata": {},
   "source": [
    "# Elo Calculator Examples"
   ]
  },
  {
   "cell_type": "code",
   "execution_count": 1,
   "metadata": {},
   "outputs": [],
   "source": [
    "from elo_calculator import update_elos_for_group, Entry, update_elos_for_sequence, quick_calc"
   ]
  },
  {
   "cell_type": "markdown",
   "metadata": {},
   "source": [
    "## Entry Object"
   ]
  },
  {
   "cell_type": "markdown",
   "metadata": {},
   "source": [
    "Use this to manage an instance of an entry / player. We can track id, name, place and input / output elos."
   ]
  },
  {
   "cell_type": "code",
   "execution_count": 2,
   "metadata": {},
   "outputs": [
    {
     "data": {
      "text/plain": [
       "Entry(id='1', name='dk', place=1, input_elo=None, output_elo=None)"
      ]
     },
     "execution_count": 2,
     "metadata": {},
     "output_type": "execute_result"
    }
   ],
   "source": [
    "Entry(id=\"1\", name=\"dk\", place=1)"
   ]
  },
  {
   "cell_type": "code",
   "execution_count": 3,
   "metadata": {},
   "outputs": [],
   "source": [
    "a = Entry(id=\"1\", name=\"dk\", place=1, input_elo=1234)\n",
    "b = Entry(id=\"2\", name=\"toad\", place=2, input_elo=888)\n",
    "a2 = Entry(id=\"1\", name=\"dk\", place=1)\n",
    "b2 = Entry(id=\"2\", name=\"toad\", place=2)"
   ]
  },
  {
   "cell_type": "markdown",
   "metadata": {},
   "source": [
    "## Single Group Updates"
   ]
  },
  {
   "cell_type": "code",
   "execution_count": 4,
   "metadata": {},
   "outputs": [],
   "source": [
    "res = update_elos_for_group([a, b], 32)"
   ]
  },
  {
   "cell_type": "code",
   "execution_count": 5,
   "metadata": {},
   "outputs": [
    {
     "name": "stdout",
     "output_type": "stream",
     "text": [
      "[Entry(id='1', name='dk', place=1, input_elo=Some(1234), output_elo=Some(1238)), Entry(id='2', name='toad', place=2, input_elo=Some(888), output_elo=Some(884))]\n"
     ]
    }
   ],
   "source": [
    "print(res)"
   ]
  },
  {
   "cell_type": "code",
   "execution_count": 6,
   "metadata": {},
   "outputs": [
    {
     "data": {
      "text/plain": [
       "1238"
      ]
     },
     "execution_count": 6,
     "metadata": {},
     "output_type": "execute_result"
    }
   ],
   "source": [
    "res[0].output_elo"
   ]
  },
  {
   "cell_type": "markdown",
   "metadata": {},
   "source": [
    "## Sequence of Groups Updates"
   ]
  },
  {
   "cell_type": "markdown",
   "metadata": {},
   "source": [
    "Use this to calculate elo changes throughout a sequence of events. \n",
    "Input elos may be provided for each entry, but they will be overwritten with the most recent calculation.\n",
    "Each first occurance of an Entry id must have an `input_elo` provided."
   ]
  },
  {
   "cell_type": "code",
   "execution_count": 7,
   "metadata": {},
   "outputs": [],
   "source": [
    "res2 = update_elos_for_sequence([[a,b], [a2,b2]], 32)"
   ]
  },
  {
   "cell_type": "code",
   "execution_count": 8,
   "metadata": {},
   "outputs": [
    {
     "data": {
      "text/plain": [
       "[[Entry(id='1', name='dk', place=1, input_elo=Some(1234), output_elo=Some(1238)),\n",
       "  Entry(id='2', name='toad', place=2, input_elo=Some(888), output_elo=Some(884))],\n",
       " [Entry(id='1', name='dk', place=1, input_elo=Some(1238), output_elo=Some(1242)),\n",
       "  Entry(id='2', name='toad', place=2, input_elo=Some(884), output_elo=Some(880))]]"
      ]
     },
     "execution_count": 8,
     "metadata": {},
     "output_type": "execute_result"
    }
   ],
   "source": [
    "res2"
   ]
  },
  {
   "cell_type": "markdown",
   "metadata": {},
   "source": [
    "## Quick Elo Calculations"
   ]
  },
  {
   "cell_type": "markdown",
   "metadata": {},
   "source": [
    "Provide the winning elo, losing elo and k value. This is useful for quick calculations without depending on the Entry object."
   ]
  },
  {
   "cell_type": "code",
   "execution_count": 9,
   "metadata": {},
   "outputs": [
    {
     "data": {
      "text/plain": [
       "(1025, 1209)"
      ]
     },
     "execution_count": 9,
     "metadata": {},
     "output_type": "execute_result"
    }
   ],
   "source": [
    "quick_calc(1000, 1234, 32)"
   ]
  }
 ],
 "metadata": {
  "kernelspec": {
   "display_name": "venv",
   "language": "python",
   "name": "python3"
  },
  "language_info": {
   "codemirror_mode": {
    "name": "ipython",
    "version": 3
   },
   "file_extension": ".py",
   "mimetype": "text/x-python",
   "name": "python",
   "nbconvert_exporter": "python",
   "pygments_lexer": "ipython3",
   "version": "3.12.6"
  }
 },
 "nbformat": 4,
 "nbformat_minor": 2
}
